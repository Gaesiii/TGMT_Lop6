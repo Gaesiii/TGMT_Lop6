{
 "cells": [
  {
   "cell_type": "code",
   "execution_count": 1,
   "id": "60a3c643-3ed4-4cba-97cf-eb9b42378db8",
   "metadata": {},
   "outputs": [
    {
     "name": "stdout",
     "output_type": "stream",
     "text": [
      "Collecting opencv-python\n",
      "  Downloading opencv_python-4.10.0.84-cp37-abi3-win_amd64.whl.metadata (20 kB)\n",
      "Requirement already satisfied: numpy>=1.21.2 in c:\\programdata\\anaconda3\\lib\\site-packages (from opencv-python) (1.26.4)\n",
      "Downloading opencv_python-4.10.0.84-cp37-abi3-win_amd64.whl (38.8 MB)\n",
      "   ---------------------------------------- 0.0/38.8 MB ? eta -:--:--\n",
      "   ---------------------------------------- 0.3/38.8 MB ? eta -:--:--\n",
      "   - -------------------------------------- 1.3/38.8 MB 4.2 MB/s eta 0:00:09\n",
      "   -- ------------------------------------- 2.4/38.8 MB 4.6 MB/s eta 0:00:08\n",
      "   --- ------------------------------------ 3.1/38.8 MB 4.4 MB/s eta 0:00:09\n",
      "   ---- ----------------------------------- 4.2/38.8 MB 4.5 MB/s eta 0:00:08\n",
      "   ---- ----------------------------------- 4.7/38.8 MB 4.3 MB/s eta 0:00:09\n",
      "   ------ --------------------------------- 6.3/38.8 MB 4.6 MB/s eta 0:00:08\n",
      "   ------- -------------------------------- 7.3/38.8 MB 4.8 MB/s eta 0:00:07\n",
      "   -------- ------------------------------- 8.7/38.8 MB 4.9 MB/s eta 0:00:07\n",
      "   --------- ------------------------------ 9.7/38.8 MB 5.0 MB/s eta 0:00:06\n",
      "   ----------- ---------------------------- 10.7/38.8 MB 5.0 MB/s eta 0:00:06\n",
      "   ------------ --------------------------- 11.8/38.8 MB 5.0 MB/s eta 0:00:06\n",
      "   ------------- -------------------------- 12.8/38.8 MB 5.0 MB/s eta 0:00:06\n",
      "   -------------- ------------------------- 13.9/38.8 MB 5.1 MB/s eta 0:00:05\n",
      "   --------------- ------------------------ 14.9/38.8 MB 5.0 MB/s eta 0:00:05\n",
      "   ---------------- ----------------------- 16.0/38.8 MB 5.0 MB/s eta 0:00:05\n",
      "   ----------------- ---------------------- 17.0/38.8 MB 5.0 MB/s eta 0:00:05\n",
      "   ------------------ --------------------- 18.1/38.8 MB 5.0 MB/s eta 0:00:05\n",
      "   ------------------- -------------------- 19.1/38.8 MB 5.1 MB/s eta 0:00:04\n",
      "   -------------------- ------------------- 20.2/38.8 MB 5.1 MB/s eta 0:00:04\n",
      "   --------------------- ------------------ 21.2/38.8 MB 5.0 MB/s eta 0:00:04\n",
      "   ---------------------- ----------------- 22.0/38.8 MB 5.0 MB/s eta 0:00:04\n",
      "   ----------------------- ---------------- 22.8/38.8 MB 4.9 MB/s eta 0:00:04\n",
      "   ------------------------ --------------- 23.9/38.8 MB 4.9 MB/s eta 0:00:04\n",
      "   ------------------------- -------------- 24.6/38.8 MB 4.9 MB/s eta 0:00:03\n",
      "   -------------------------- ------------- 25.7/38.8 MB 4.9 MB/s eta 0:00:03\n",
      "   --------------------------- ------------ 26.5/38.8 MB 4.9 MB/s eta 0:00:03\n",
      "   --------------------------- ------------ 27.0/38.8 MB 4.8 MB/s eta 0:00:03\n",
      "   ---------------------------- ----------- 27.5/38.8 MB 4.7 MB/s eta 0:00:03\n",
      "   ---------------------------- ----------- 28.0/38.8 MB 4.7 MB/s eta 0:00:03\n",
      "   ----------------------------- ---------- 29.1/38.8 MB 4.6 MB/s eta 0:00:03\n",
      "   ------------------------------ --------- 29.9/38.8 MB 4.6 MB/s eta 0:00:02\n",
      "   ------------------------------- -------- 30.9/38.8 MB 4.6 MB/s eta 0:00:02\n",
      "   -------------------------------- ------- 31.7/38.8 MB 4.6 MB/s eta 0:00:02\n",
      "   --------------------------------- ------ 32.8/38.8 MB 4.6 MB/s eta 0:00:02\n",
      "   ---------------------------------- ----- 33.6/38.8 MB 4.6 MB/s eta 0:00:02\n",
      "   ----------------------------------- ---- 34.6/38.8 MB 4.6 MB/s eta 0:00:01\n",
      "   ------------------------------------ --- 35.7/38.8 MB 4.6 MB/s eta 0:00:01\n",
      "   ------------------------------------- -- 36.4/38.8 MB 4.6 MB/s eta 0:00:01\n",
      "   -------------------------------------- - 37.5/38.8 MB 4.6 MB/s eta 0:00:01\n",
      "   ---------------------------------------  38.5/38.8 MB 4.6 MB/s eta 0:00:01\n",
      "   ---------------------------------------- 38.8/38.8 MB 4.6 MB/s eta 0:00:00\n",
      "Installing collected packages: opencv-python\n",
      "Successfully installed opencv-python-4.10.0.84\n"
     ]
    }
   ],
   "source": [
    "!pip install opencv-python\n"
   ]
  },
  {
   "cell_type": "code",
   "execution_count": 7,
   "id": "1952285e-8885-4d34-8c90-9f8776ee90fd",
   "metadata": {},
   "outputs": [],
   "source": [
    "def display(title, img):\n",
    "    cv2.imshow(title, img)\n",
    "    cv2.waitKey(0)  \n",
    "    cv2.destroyWindow(title)"
   ]
  },
  {
   "cell_type": "code",
   "execution_count": 5,
   "id": "31e93bb3-25a9-469f-80df-b8dff335b488",
   "metadata": {},
   "outputs": [],
   "source": [
    "import cv2\n"
   ]
  },
  {
   "cell_type": "code",
   "execution_count": 12,
   "id": "fe93ce08-e8f1-4e09-ad26-5a36e8d551d6",
   "metadata": {},
   "outputs": [
    {
     "name": "stdout",
     "output_type": "stream",
     "text": [
      "[[[  3   3   3]\n",
      "  [  3   3   3]\n",
      "  [  3   3   3]\n",
      "  ...\n",
      "  [ 25  13   7]\n",
      "  [ 25  13   7]\n",
      "  [ 25  13   7]]\n",
      "\n",
      " [[  3   3   3]\n",
      "  [  3   3   3]\n",
      "  [  3   3   3]\n",
      "  ...\n",
      "  [ 25  13   7]\n",
      "  [ 25  13   7]\n",
      "  [ 25  13   7]]\n",
      "\n",
      " [[  3   3   3]\n",
      "  [  3   3   3]\n",
      "  [  3   3   3]\n",
      "  ...\n",
      "  [ 25  13   7]\n",
      "  [ 25  13   7]\n",
      "  [ 25  13   7]]\n",
      "\n",
      " ...\n",
      "\n",
      " [[ 10   2   3]\n",
      "  [ 10   2   3]\n",
      "  [ 10   2   3]\n",
      "  ...\n",
      "  [241 226  26]\n",
      "  [242 228  25]\n",
      "  [244 230  27]]\n",
      "\n",
      " [[ 10   2   3]\n",
      "  [ 10   2   3]\n",
      "  [ 10   2   3]\n",
      "  ...\n",
      "  [244 226  33]\n",
      "  [246 230  34]\n",
      "  [248 232  35]]\n",
      "\n",
      " [[ 10   2   3]\n",
      "  [ 10   2   3]\n",
      "  [ 10   2   3]\n",
      "  ...\n",
      "  [244 227  30]\n",
      "  [246 231  31]\n",
      "  [248 234  32]]]\n"
     ]
    }
   ],
   "source": [
    "path= 'C:/Users/L7pho/anhtest/test1.jpg'\n",
    "img = cv2.imread(path)\n",
    "print(img)\n"
   ]
  },
  {
   "cell_type": "code",
   "execution_count": 14,
   "id": "ee918ba2-0825-4742-b6cd-4bb332335ef9",
   "metadata": {},
   "outputs": [
    {
     "name": "stdout",
     "output_type": "stream",
     "text": [
      "(410, 728, 3)\n",
      "410\n",
      "728\n",
      "3\n"
     ]
    }
   ],
   "source": [
    "print(img.shape)\n",
    "x, y, z = img.shape\n",
    "print(x)\n",
    "print(y)\n",
    "print(z)"
   ]
  },
  {
   "cell_type": "code",
   "execution_count": 16,
   "id": "f472dcd6-8463-4a4f-9d2b-c7ebf3b88298",
   "metadata": {},
   "outputs": [],
   "source": [
    "cv2.imshow('Window', img)\n",
    "cv2.waitKey(10000)\n",
    "cv2.destroyWindow('Window')"
   ]
  },
  {
   "cell_type": "code",
   "execution_count": 18,
   "id": "04b40635-9294-4c45-b0c9-b0e89c78a151",
   "metadata": {},
   "outputs": [],
   "source": [
    "b, g, r = cv2.split(img)\n",
    "cv2.imshow('Window', img)\n",
    "cv2.imshow('Red', r)\n",
    "cv2.imshow('Green', g)\n",
    "cv2.imshow('Blue', b)\n",
    "cv2.waitKey(0)\n",
    "cv2.destroyAllWindows()\n"
   ]
  },
  {
   "cell_type": "code",
   "execution_count": 19,
   "id": "fea384c6-68be-4832-90b1-db61466717f4",
   "metadata": {},
   "outputs": [],
   "source": [
    "gray_img = cv2.cvtColor(img, cv2.COLOR_BGR2GRAY)\n",
    "img_2 = cv2.cvtColor(img, cv2.COLOR_BGR2RGB)\n",
    "cv2.imshow('Window', img)\n",
    "cv2.imshow('gray_img', gray_img)\n",
    "cv2.imshow('img_2', img_2)\n",
    "cv2.waitKey(0)\n",
    "cv2.destroyAllWindows()"
   ]
  },
  {
   "cell_type": "code",
   "execution_count": 20,
   "id": "57d79720-d75f-4164-9842-31f6a32bef9b",
   "metadata": {},
   "outputs": [
    {
     "ename": "error",
     "evalue": "OpenCV(4.10.0) D:\\a\\opencv-python\\opencv-python\\opencv\\modules\\highgui\\src\\window_w32.cpp:1261: error: (-27:Null pointer) NULL window: 'Window' in function 'cvDestroyWindow'\n",
     "output_type": "error",
     "traceback": [
      "\u001b[1;31m---------------------------------------------------------------------------\u001b[0m",
      "\u001b[1;31merror\u001b[0m                                     Traceback (most recent call last)",
      "Cell \u001b[1;32mIn[20], line 9\u001b[0m\n\u001b[0;32m      7\u001b[0m     \u001b[38;5;28;01mfor\u001b[39;00m x \u001b[38;5;129;01min\u001b[39;00m \u001b[38;5;28mrange\u001b[39m(\u001b[38;5;28mint\u001b[39m(quater_w)):\n\u001b[0;32m      8\u001b[0m         img2[y, x] \u001b[38;5;241m=\u001b[39m green_color\n\u001b[1;32m----> 9\u001b[0m display(\u001b[38;5;124m'\u001b[39m\u001b[38;5;124mWindow\u001b[39m\u001b[38;5;124m'\u001b[39m, img)\n\u001b[0;32m     10\u001b[0m display(\u001b[38;5;124m'\u001b[39m\u001b[38;5;124mWindow-2\u001b[39m\u001b[38;5;124m'\u001b[39m, img2)\n",
      "Cell \u001b[1;32mIn[7], line 4\u001b[0m, in \u001b[0;36mdisplay\u001b[1;34m(title, img)\u001b[0m\n\u001b[0;32m      2\u001b[0m cv2\u001b[38;5;241m.\u001b[39mimshow(title, img)\n\u001b[0;32m      3\u001b[0m cv2\u001b[38;5;241m.\u001b[39mwaitKey(\u001b[38;5;241m0\u001b[39m)  \n\u001b[1;32m----> 4\u001b[0m cv2\u001b[38;5;241m.\u001b[39mdestroyWindow(title)\n",
      "\u001b[1;31merror\u001b[0m: OpenCV(4.10.0) D:\\a\\opencv-python\\opencv-python\\opencv\\modules\\highgui\\src\\window_w32.cpp:1261: error: (-27:Null pointer) NULL window: 'Window' in function 'cvDestroyWindow'\n"
     ]
    }
   ],
   "source": [
    "height, width, z = img.shape\n",
    "quater_h = height/2\n",
    "quater_w = width/2\n",
    "green_color = (0,255,0)\n",
    "img2 = img.copy()\n",
    "for y in range(int(quater_h)):\n",
    "    for x in range(int(quater_w)):\n",
    "        img2[y, x] = green_color\n",
    "display('Window', img)\n",
    "display('Window-2', img2)"
   ]
  },
  {
   "cell_type": "code",
   "execution_count": null,
   "id": "ffcc4ac5-1a39-4b81-8d00-24cdc01c4cb0",
   "metadata": {},
   "outputs": [],
   "source": []
  }
 ],
 "metadata": {
  "kernelspec": {
   "display_name": "Python 3 (ipykernel)",
   "language": "python",
   "name": "python3"
  },
  "language_info": {
   "codemirror_mode": {
    "name": "ipython",
    "version": 3
   },
   "file_extension": ".py",
   "mimetype": "text/x-python",
   "name": "python",
   "nbconvert_exporter": "python",
   "pygments_lexer": "ipython3",
   "version": "3.12.4"
  }
 },
 "nbformat": 4,
 "nbformat_minor": 5
}
