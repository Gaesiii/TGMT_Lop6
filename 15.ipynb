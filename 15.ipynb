{
 "cells": [
  {
   "cell_type": "code",
   "execution_count": 2,
   "id": "4af17a36-f331-46fe-bbbe-200749b811db",
   "metadata": {},
   "outputs": [
    {
     "name": "stdout",
     "output_type": "stream",
     "text": [
      "Defaulting to user installation because normal site-packages is not writeable\n",
      "Requirement already satisfied: scipy in c:\\users\\l7pho\\appdata\\roaming\\python\\python312\\site-packages (1.14.1)\n",
      "Requirement already satisfied: numpy<2.3,>=1.23.5 in c:\\programdata\\anaconda3\\lib\\site-packages (from scipy) (1.26.4)\n"
     ]
    }
   ],
   "source": [
    "!pip install scipy"
   ]
  },
  {
   "cell_type": "code",
   "execution_count": 10,
   "id": "f1aee8c6-992b-49ad-9e54-08f5dd42a78f",
   "metadata": {},
   "outputs": [
    {
     "name": "stdout",
     "output_type": "stream",
     "text": [
      "Kết quả:  [0.1 0.7]\n"
     ]
    }
   ],
   "source": [
    "from scipy import linalg\n",
    "import numpy as np\n",
    "\n",
    "A = np.array([[2, 4],[3, 1]])\n",
    "b = np.array([3,1])\n",
    "\n",
    "x = linalg.solve(A, b)\n",
    "print(\"Kết quả: \", x)"
   ]
  },
  {
   "cell_type": "code",
   "execution_count": 12,
   "id": "292817f9-94f8-4c97-a2ae-9f4f9b83b491",
   "metadata": {},
   "outputs": [
    {
     "name": "stdout",
     "output_type": "stream",
     "text": [
      "Tích phân f(x) từ 0 đến 2:  (6.4, 7.105427357601002e-14)\n"
     ]
    }
   ],
   "source": [
    "from scipy import integrate\n",
    "\n",
    "def my_function(x):\n",
    "    return x**4\n",
    "\n",
    "integral = integrate.quad(my_function, 0, 2);\n",
    "print(\"Tích phân f(x) từ 0 đến 2: \", integral)"
   ]
  },
  {
   "cell_type": "code",
   "execution_count": 14,
   "id": "b9959a78-841c-4683-ad4a-82a303ace599",
   "metadata": {},
   "outputs": [
    {
     "name": "stdout",
     "output_type": "stream",
     "text": [
      "Giá trị riêng:  [-1.37228132+0.j  4.37228132+0.j]\n",
      "Vector riêng:  [[-0.86011126 -0.76454754]\n",
      " [ 0.51010647 -0.64456735]]\n"
     ]
    }
   ],
   "source": [
    "from scipy import linalg\n",
    "import numpy as np\n",
    "\n",
    "A = np.array([[1,4], [2,2]])\n",
    "\n",
    "evals, evecs = linalg.eig(A)\n",
    "\n",
    "print(\"Giá trị riêng: \", evals)\n",
    "print(\"Vector riêng: \", evecs)"
   ]
  },
  {
   "cell_type": "code",
   "execution_count": null,
   "id": "e1b68011-3149-44ea-b9f1-97bcb947ffe9",
   "metadata": {},
   "outputs": [],
   "source": []
  }
 ],
 "metadata": {
  "kernelspec": {
   "display_name": "Python 3 (ipykernel)",
   "language": "python",
   "name": "python3"
  },
  "language_info": {
   "codemirror_mode": {
    "name": "ipython",
    "version": 3
   },
   "file_extension": ".py",
   "mimetype": "text/x-python",
   "name": "python",
   "nbconvert_exporter": "python",
   "pygments_lexer": "ipython3",
   "version": "3.12.4"
  }
 },
 "nbformat": 4,
 "nbformat_minor": 5
}
